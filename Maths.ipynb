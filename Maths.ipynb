{
 "cells": [
  {
   "cell_type": "markdown",
   "metadata": {},
   "source": [
    "# Maaz ur Rehman\n",
    "# Assignment of Linear Algebra"
   ]
  },
  {
   "cell_type": "markdown",
   "metadata": {},
   "source": [
    "Q.1) Additon of Vector"
   ]
  },
  {
   "cell_type": "code",
   "execution_count": 1,
   "metadata": {},
   "outputs": [],
   "source": [
    "import numpy"
   ]
  },
  {
   "cell_type": "code",
   "execution_count": 2,
   "metadata": {},
   "outputs": [
    {
     "name": "stdout",
     "output_type": "stream",
     "text": [
      "[ 5  2 -2]\n"
     ]
    }
   ],
   "source": [
    "a = numpy.array([1,2,3])\n",
    "b = numpy.array([4,0,-5])\n",
    "print(a+b)"
   ]
  },
  {
   "cell_type": "markdown",
   "metadata": {},
   "source": [
    "Q.2) Vector space property (associative property)"
   ]
  },
  {
   "cell_type": "code",
   "execution_count": 3,
   "metadata": {},
   "outputs": [
    {
     "name": "stdout",
     "output_type": "stream",
     "text": [
      "[14 15 16]\n",
      "[14 15 16]\n",
      "if a = b it's mean associative property is proof \n"
     ]
    }
   ],
   "source": [
    "u = numpy.array([5,2,7])\n",
    "v = numpy.array([8,9,3])\n",
    "w = numpy.array([1,4,6])\n",
    "a = (u + v) + w\n",
    "b = u+ (v + w)\n",
    "print(a)\n",
    "print(b)\n",
    "print(\"if a = b it's mean associative property is proof \")"
   ]
  },
  {
   "cell_type": "markdown",
   "metadata": {},
   "source": [
    "Q.3) Dot product"
   ]
  },
  {
   "cell_type": "code",
   "execution_count": 4,
   "metadata": {},
   "outputs": [
    {
     "name": "stdout",
     "output_type": "stream",
     "text": [
      "u.v = 32\n"
     ]
    }
   ],
   "source": [
    "u = numpy.array([1,2,3])\n",
    "v = numpy.array([4,5,6])\n",
    "answer = (u[0] * v[0]) + (u[1] * v[1]) + (u[2] * v[2]) \n",
    "print(\"u.v =\" ,answer)\n"
   ]
  },
  {
   "cell_type": "markdown",
   "metadata": {},
   "source": [
    "Q.4) Scalar Multiplication"
   ]
  },
  {
   "cell_type": "code",
   "execution_count": 5,
   "metadata": {},
   "outputs": [
    {
     "name": "stdout",
     "output_type": "stream",
     "text": [
      "[2 4 6]\n"
     ]
    }
   ],
   "source": [
    "u = numpy.array([1,2,3])\n",
    "ans = 2 * u\n",
    "print(ans)"
   ]
  },
  {
   "cell_type": "markdown",
   "metadata": {},
   "source": [
    "Q.5) Transpose of Matrix"
   ]
  },
  {
   "cell_type": "code",
   "execution_count": 6,
   "metadata": {},
   "outputs": [
    {
     "name": "stdout",
     "output_type": "stream",
     "text": [
      "the transpose of a matrix is\n",
      "[[1 3]\n",
      " [2 4]]\n"
     ]
    }
   ],
   "source": [
    "a = numpy.array([[1,2],[3,4]])\n",
    "print('the transpose of a matrix is')\n",
    "print( a.transpose())"
   ]
  },
  {
   "cell_type": "markdown",
   "metadata": {},
   "source": [
    "Q.6) Addition of Matrix"
   ]
  },
  {
   "cell_type": "code",
   "execution_count": 7,
   "metadata": {},
   "outputs": [
    {
     "name": "stdout",
     "output_type": "stream",
     "text": [
      "[17, 15, 4]\n",
      "[10, 12, 9]\n",
      "[11, 13, 18]\n"
     ]
    }
   ],
   "source": [
    "X = [[12,7,3],\n",
    "    [4 ,5,6],\n",
    "    [7 ,8,9]]\n",
    "\n",
    "Y = [[5,8,1],\n",
    "    [6,7,3],\n",
    "    [4,5,9]]\n",
    "\n",
    "result = [[X[i][j] + Y[i][j]  for j in range(len(X[0]))] for i in range(len(X))]\n",
    "\n",
    "for r in result:\n",
    "    print(r)"
   ]
  },
  {
   "cell_type": "code",
   "execution_count": 8,
   "metadata": {},
   "outputs": [
    {
     "name": "stdout",
     "output_type": "stream",
     "text": [
      "[[17 15  4]\n",
      " [10 12  9]\n",
      " [11 13 18]]\n"
     ]
    }
   ],
   "source": [
    "# with using numpy Addition of two matrix\n",
    "x = numpy.array([[12,7,3], \n",
    "                [4 ,5,6],\n",
    "                [7 ,8,9]])\n",
    "y = numpy.array([[5,8,1],\n",
    "                [6,7,3],\n",
    "                [4,5,9]])\n",
    "C = x + y      # element wise addition\n",
    "print(C)\n"
   ]
  },
  {
   "cell_type": "markdown",
   "metadata": {},
   "source": [
    "Q.7) Multiplication of Martix"
   ]
  },
  {
   "cell_type": "code",
   "execution_count": 9,
   "metadata": {},
   "outputs": [
    {
     "name": "stdout",
     "output_type": "stream",
     "text": [
      "[114, 160, 60]\n",
      "[74, 97, 73]\n",
      "[119, 157, 112]\n"
     ]
    }
   ],
   "source": [
    "X = [[12,7,3],\n",
    "    [4 ,5,6],\n",
    "    [7 ,8,9]]\n",
    "# 3x3 matrix\n",
    "Y = [[5,8,1],\n",
    "    [6,7,3],\n",
    "    [4,5,9]]\n",
    "#the result is 3x3\n",
    "result = [[0,0,0],\n",
    "         [0,0,0],\n",
    "         [0,0,0]]\n",
    "\n",
    "\n",
    "for i in range(len(X)):\n",
    "   \n",
    "   for j in range(len(Y[0])):\n",
    "        \n",
    "       \n",
    "       for k in range(len(Y)):\n",
    "            result[i][j] += X[i][k] * Y[k][j]\n",
    "\n",
    "for r in result:\n",
    "    print(r)"
   ]
  },
  {
   "cell_type": "code",
   "execution_count": 11,
   "metadata": {},
   "outputs": [
    {
     "name": "stdout",
     "output_type": "stream",
     "text": [
      "[[114 160  60]\n",
      " [ 74  97  73]\n",
      " [119 157 112]]\n"
     ]
    }
   ],
   "source": [
    "# with using numpy Multiplication of two matrix\n",
    "A = numpy.array([[12,7,3],\n",
    "                 [4 ,5,6],\n",
    "                [7 ,8,9]])\n",
    "B = numpy.array([[5,8,1],\n",
    "                 [6,7,3],\n",
    "                 [4,5,9]])\n",
    "C = A.dot(B)\n",
    "print(C)"
   ]
  },
  {
   "cell_type": "markdown",
   "metadata": {},
   "source": [
    "Q.8) Unit Vector"
   ]
  },
  {
   "cell_type": "code",
   "execution_count": null,
   "metadata": {},
   "outputs": [
    {
     "name": "stdout",
     "output_type": "stream",
     "text": [
      "Enter number of values: 12\n",
      "Enter u1: 12\n",
      "The of u is:  [12]\n",
      "The square of u is :  [144]\n",
      "||u|| : √ or 144\n",
      "||u|| :  12.0\n",
      " ( 12 / √144 )Enter u2: 12\n",
      "The of u is:  [12, 12]\n",
      "The square of u is :  [144, 144]\n",
      "||u|| : √ or 144\n",
      "||u|| :  12.0\n",
      " ( 12 / √144 ) ( 12 / √144 )||u|| : √ or 288\n",
      "||u|| :  16.97056274847714\n",
      " ( 12 / √288 ) ( 12 / √288 )Enter u3: 14\n",
      "The of u is:  [12, 12, 14]\n",
      "The square of u is :  [144, 144, 196]\n",
      "||u|| : √ or 144\n",
      "||u|| :  12.0\n",
      " ( 12 / √144 ) ( 12 / √144 ) ( 14 / √144 )||u|| : √ or 288\n",
      "||u|| :  16.97056274847714\n",
      " ( 12 / √288 ) ( 12 / √288 ) ( 14 / √288 )||u|| : √ or 484\n",
      "||u|| :  22.0\n",
      " ( 12 / √484 ) ( 12 / √484 ) ( 14 / √484 )"
     ]
    }
   ],
   "source": [
    "import math\n",
    "val = eval(input(\"Enter number of values: \"))\n",
    "ul = []\n",
    "result = []\n",
    "for i in range(val):\n",
    "    u = eval(input(\"Enter u\"+str(i+1)+\": \"))\n",
    "    ul.append(u)\n",
    "    mul = ul[i] * ul[i]\n",
    "    result.append(mul)\n",
    "    print(\"The of u is: \", ul)\n",
    "    print(\"The square of u is : \", result)\n",
    "    ans = 0\n",
    "    for i in result:\n",
    "        ans = ans + i\n",
    "        print(\"||u|| : \\u221A or\", ans)\n",
    "        print(\"||u|| : \", math.sqrt(ans))\n",
    "        for i in ul:\n",
    "            print(\" ( \"+str(i) + \" / \" + \"\\u221A\" + str(ans) + \" )\", end=\"\")"
   ]
  },
  {
   "cell_type": "code",
   "execution_count": null,
   "metadata": {},
   "outputs": [],
   "source": []
  },
  {
   "cell_type": "code",
   "execution_count": null,
   "metadata": {},
   "outputs": [],
   "source": []
  },
  {
   "cell_type": "code",
   "execution_count": null,
   "metadata": {},
   "outputs": [],
   "source": []
  }
 ],
 "metadata": {
  "kernelspec": {
   "display_name": "Python 3",
   "language": "python",
   "name": "python3"
  },
  "language_info": {
   "codemirror_mode": {
    "name": "ipython",
    "version": 3
   },
   "file_extension": ".py",
   "mimetype": "text/x-python",
   "name": "python",
   "nbconvert_exporter": "python",
   "pygments_lexer": "ipython3",
   "version": "3.7.3"
  }
 },
 "nbformat": 4,
 "nbformat_minor": 2
}
